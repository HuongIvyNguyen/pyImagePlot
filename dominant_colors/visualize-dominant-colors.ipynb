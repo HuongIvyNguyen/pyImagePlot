{
 "cells": [
  {
   "cell_type": "code",
   "execution_count": 55,
   "metadata": {
    "collapsed": false
   },
   "outputs": [],
   "source": [
    "import os\n",
    "import cv2\n",
    "import csv\n",
    "from pylab import *\n",
    "import scipy\n",
    "import scipy.misc\n",
    "from scipy import stats\n",
    "from PIL import Image\n",
    "import collections\n",
    "%matplotlib inline"
   ]
  },
  {
   "cell_type": "code",
   "execution_count": 56,
   "metadata": {
    "collapsed": false
   },
   "outputs": [],
   "source": [
    "in_file = \"/Users/myazdaniUCSD/Dropbox/Broadway_processed_data/processedData/dom_HSV_sample.csv\"\n",
    "out_path = \"/Users/myazdaniUCSD/Desktop/\""
   ]
  },
  {
   "cell_type": "code",
   "execution_count": 57,
   "metadata": {
    "collapsed": false
   },
   "outputs": [],
   "source": [
    "def return_rows(filename, file_encoding = 'rU'):\n",
    "  with open(filename, file_encoding) as f: \n",
    "    reader = csv.reader(f)\n",
    "    rowsInData = [row for row in reader]\n",
    "  return rowsInData  "
   ]
  },
  {
   "cell_type": "code",
   "execution_count": 58,
   "metadata": {
    "collapsed": false
   },
   "outputs": [
    {
     "data": {
      "text/plain": [
       "['filename', 'hour', 'H.mode', 'S.mode', 'V.mode']"
      ]
     },
     "execution_count": 58,
     "metadata": {},
     "output_type": "execute_result"
    }
   ],
   "source": [
    "lines = return_rows(in_file)\n",
    "lines[0]"
   ]
  },
  {
   "cell_type": "code",
   "execution_count": 59,
   "metadata": {
    "collapsed": false
   },
   "outputs": [],
   "source": [
    "hours = set([line[1] for line in lines[1:]])\n",
    "\n",
    "hours_colors = {}\n",
    "width = 500\n",
    "for hour in hours:\n",
    "    hsv_colors = array([list(map(lambda x: float(x) - 1.0, line[2:])) for line in lines[1:] if line[1] == hour])\n",
    "    #hsv_colors[:,1] = 255 # keep saturation fixed\n",
    "    #hsv_colors[:,2] = 255 # keep value fixed\n",
    "    hsv_colors = hsv_colors[hsv_colors[:,2].argsort()]\n",
    "    height = hsv_colors.shape[0]\n",
    "    hsv = reshape(hsv_colors, (height, 1, 3))\n",
    "    hours_colors[int(hour)] = array(tile(hsv, (1, width, 1)), dtype = uint8)"
   ]
  },
  {
   "cell_type": "code",
   "execution_count": 60,
   "metadata": {
    "collapsed": false
   },
   "outputs": [],
   "source": [
    "for hour in hours_colors.keys():\n",
    "    hsv = hours_colors[hour]\n",
    "    cv2.imwrite(out_path+str(hour)+\".png\", cv2.cvtColor(hsv, cv2.COLOR_HSV2BGR))"
   ]
  },
  {
   "cell_type": "code",
   "execution_count": 61,
   "metadata": {
    "collapsed": true
   },
   "outputs": [],
   "source": [
    "od = collections.OrderedDict(sorted(hours_colors.items()))"
   ]
  },
  {
   "cell_type": "code",
   "execution_count": 62,
   "metadata": {
    "collapsed": false
   },
   "outputs": [],
   "source": [
    "all_hours = cv2.cvtColor(od[0], cv2.COLOR_HSV2BGR)\n",
    "for hour in od.keys()[1:]:\n",
    "    all_hours = hstack((all_hours, cv2.cvtColor(od[hour], cv2.COLOR_HSV2BGR)))"
   ]
  },
  {
   "cell_type": "code",
   "execution_count": 63,
   "metadata": {
    "collapsed": false
   },
   "outputs": [
    {
     "data": {
      "text/plain": [
       "True"
      ]
     },
     "execution_count": 63,
     "metadata": {},
     "output_type": "execute_result"
    }
   ],
   "source": [
    "cv2.imwrite(out_path+\"all_hours\" + \".png\", all_hours)"
   ]
  },
  {
   "cell_type": "code",
   "execution_count": null,
   "metadata": {
    "collapsed": true
   },
   "outputs": [],
   "source": []
  }
 ],
 "metadata": {
  "kernelspec": {
   "display_name": "Python 2",
   "language": "python",
   "name": "python2"
  },
  "language_info": {
   "codemirror_mode": {
    "name": "ipython",
    "version": 2
   },
   "file_extension": ".py",
   "mimetype": "text/x-python",
   "name": "python",
   "nbconvert_exporter": "python",
   "pygments_lexer": "ipython2",
   "version": "2.7.9"
  }
 },
 "nbformat": 4,
 "nbformat_minor": 0
}
