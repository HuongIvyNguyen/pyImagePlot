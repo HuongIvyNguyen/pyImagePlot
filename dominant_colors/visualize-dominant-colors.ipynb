{
 "metadata": {
  "name": "",
  "signature": "sha256:5d2e189d3b6c2f6b0eb8a87999c0ce9cca9fc548c86e79abc3d9d232b09f6354"
 },
 "nbformat": 3,
 "nbformat_minor": 0,
 "worksheets": [
  {
   "cells": [
    {
     "cell_type": "code",
     "collapsed": false,
     "input": [
      "import os\n",
      "import cv2\n",
      "import csv\n",
      "from pylab import *\n",
      "import scipy\n",
      "import scipy.misc\n",
      "from scipy import stats\n",
      "from PIL import Image\n",
      "from skimage.util.shape import view_as_blocks, view_as_windows\n",
      "%matplotlib inline"
     ],
     "language": "python",
     "metadata": {},
     "outputs": [],
     "prompt_number": 1
    },
    {
     "cell_type": "code",
     "collapsed": false,
     "input": [
      "in_file = \"/Users/myazdaniUCSD/Dropbox/Broadway_processed_data/processedData/dom_HSV.csv\"\n",
      "out_path = \"/Users/myazdaniUCSD/Desktop/hourly_colors/\""
     ],
     "language": "python",
     "metadata": {},
     "outputs": [],
     "prompt_number": 2
    },
    {
     "cell_type": "code",
     "collapsed": false,
     "input": [
      "def return_rows(filename, file_encoding = 'rU'):\n",
      "  with open(filename, file_encoding) as f: \n",
      "    reader = csv.reader(f)\n",
      "    rowsInData = [row for row in reader]\n",
      "  return rowsInData  "
     ],
     "language": "python",
     "metadata": {},
     "outputs": [],
     "prompt_number": 3
    },
    {
     "cell_type": "code",
     "collapsed": false,
     "input": [
      "lines = return_rows(in_file)\n",
      "lines[0]"
     ],
     "language": "python",
     "metadata": {},
     "outputs": [
      {
       "metadata": {},
       "output_type": "pyout",
       "prompt_number": 4,
       "text": [
        "['filename', 'hour', 'H.mode', 'S.mode', 'V.mode']"
       ]
      }
     ],
     "prompt_number": 4
    },
    {
     "cell_type": "code",
     "collapsed": false,
     "input": [
      "hours = set([line[1] for line in lines[1:]])\n",
      "\n",
      "hours_colors = {}\n",
      "width = 500\n",
      "for hour in hours:\n",
      "    hsv_colors = array([line[2:] for line in lines[1:] if line[1] == hour])\n",
      "    height = hsv_colors.shape[0]\n",
      "    hsv = reshape(hsv_colors, (height, 1, 3))\n",
      "    hours_colors[hour] = array(tile(hsv, (1, width, 1)), dtype = uint8)"
     ],
     "language": "python",
     "metadata": {},
     "outputs": [],
     "prompt_number": 5
    },
    {
     "cell_type": "code",
     "collapsed": false,
     "input": [
      "for hour in hours_colors.keys():\n",
      "    hsv = hours_colors[hour]\n",
      "    cv2.imwrite(out_path+hour+\".png\", cv2.cvtColor(hsv, cv2.COLOR_HSV2BGR))"
     ],
     "language": "python",
     "metadata": {},
     "outputs": [],
     "prompt_number": 6
    }
   ],
   "metadata": {}
  }
 ]
}